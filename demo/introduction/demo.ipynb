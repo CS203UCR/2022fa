{
 "cells": [
  {
   "cell_type": "code",
   "execution_count": null,
   "id": "95a29351-7e7b-4d92-8a17-98f35aede329",
   "metadata": {},
   "outputs": [],
   "source": [
    "# Please execute/shift-return this cell everytime you run the notebook.  Don't edit it. \n",
    "%load_ext autoreload\n",
    "%autoreload 2\n",
    "from notebook import * "
   ]
  },
  {
   "cell_type": "markdown",
   "id": "fb871ada-8678-4d90-831c-af241a1b791c",
   "metadata": {},
   "source": [
    "# Introduction to CS203"
   ]
  },
  {
   "cell_type": "markdown",
   "id": "8ba6c279-8cdf-4e02-8eef-2ffce9e8f702",
   "metadata": {},
   "source": [
    "## To sort or not to sort?\n",
    "\n",
    "Consider the following code snippet, what the performance looks like when option is set to 1 or 0?"
   ]
  },
  {
   "cell_type": "code",
   "execution_count": null,
   "id": "05d41b08-87c1-4d94-9ce8-dd3d9d627a80",
   "metadata": {},
   "outputs": [],
   "source": [
    "render_code(\"arraySort.cpp\")"
   ]
  },
  {
   "cell_type": "code",
   "execution_count": null,
   "id": "c95b1006-9432-4bbc-87ba-23ece49d1f78",
   "metadata": {},
   "outputs": [],
   "source": [
    "! make"
   ]
  },
  {
   "cell_type": "code",
   "execution_count": null,
   "id": "7122267d-1420-45e5-aeb1-7a3d9a030277",
   "metadata": {},
   "outputs": [],
   "source": [
    "! time ./arraySort 262144 1000 1"
   ]
  },
  {
   "cell_type": "code",
   "execution_count": null,
   "id": "5b358264-f4b4-4f0c-a92e-68a845349439",
   "metadata": {},
   "outputs": [],
   "source": [
    "! time ./arraySort 262144 1000 0"
   ]
  },
  {
   "cell_type": "markdown",
   "id": "d129a5d8-562f-4aad-99a4-96f0f25db6d8",
   "metadata": {},
   "source": [
    "## Algorithm on GPUs?\n",
    "Consider quicksort and bitsort, which performs better on GPUs?\n",
    "\n",
    "### Quick sort"
   ]
  },
  {
   "cell_type": "code",
   "execution_count": null,
   "id": "6cb4d7fe-79b3-4ab1-91ba-2f0af2ca5448",
   "metadata": {},
   "outputs": [],
   "source": [
    "render_code(\"quicksort.cu\", show=\"quickSortIterative\")"
   ]
  },
  {
   "cell_type": "code",
   "execution_count": null,
   "id": "bd1bb0f0-a87f-4170-8390-a5d494888d6e",
   "metadata": {},
   "outputs": [],
   "source": [
    "render_code(\"quicksort.cu\", show=\"partition\")"
   ]
  },
  {
   "cell_type": "markdown",
   "id": "9dfd5156-57b8-431d-abe9-4c11c48b93b4",
   "metadata": {},
   "source": [
    "### Bitonic sort"
   ]
  },
  {
   "cell_type": "code",
   "execution_count": null,
   "id": "17317c0b-867f-4cce-aa8a-03438a43a6f3",
   "metadata": {},
   "outputs": [],
   "source": [
    "render_code(\"bitonic.cu\", show=\"bitonic_sort\")"
   ]
  },
  {
   "cell_type": "code",
   "execution_count": null,
   "id": "f86f9fca-f35a-41ef-894f-b07f3dc6af53",
   "metadata": {},
   "outputs": [],
   "source": [
    "render_code(\"bitonic.cu\", show=\"bitonic_sort_step\")"
   ]
  },
  {
   "cell_type": "code",
   "execution_count": null,
   "id": "d2edddcf-2cc4-4c0c-820f-f18eac0248db",
   "metadata": {},
   "outputs": [],
   "source": [
    "! ./bitonic"
   ]
  },
  {
   "cell_type": "code",
   "execution_count": null,
   "id": "48cc40ba-c588-4241-84de-bc1c345af4a9",
   "metadata": {},
   "outputs": [],
   "source": [
    "!./quicksort"
   ]
  }
 ],
 "metadata": {
  "kernelspec": {
   "display_name": "Python 3 (ipykernel)",
   "language": "python",
   "name": "python3"
  },
  "language_info": {
   "codemirror_mode": {
    "name": "ipython",
    "version": 3
   },
   "file_extension": ".py",
   "mimetype": "text/x-python",
   "name": "python",
   "nbconvert_exporter": "python",
   "pygments_lexer": "ipython3",
   "version": "3.8.10"
  }
 },
 "nbformat": 4,
 "nbformat_minor": 5
}
