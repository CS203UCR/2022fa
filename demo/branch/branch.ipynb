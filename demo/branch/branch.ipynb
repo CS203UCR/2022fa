{
 "cells": [
  {
   "cell_type": "code",
   "execution_count": null,
   "id": "5fba9235-2566-45b7-8f4b-6fef88889ab8",
   "metadata": {},
   "outputs": [
    {
     "name": "stdout",
     "output_type": "stream",
     "text": [
      "The autoreload extension is already loaded. To reload it, use:\n",
      "  %reload_ext autoreload\n"
     ]
    }
   ],
   "source": [
    "%load_ext autoreload\n",
    "%autoreload 2\n",
    "from notebook import *\n",
    "# if get something about NUMEXPR_MAX_THREADS being set incorrectly, don't worry.  It's not a problem."
   ]
  },
  {
   "cell_type": "markdown",
   "id": "914e93f7-59f9-4554-92d7-b26d39b1e53c",
   "metadata": {},
   "source": [
    "# Branch and branch predictions\n",
    "\n",
    "## Why do we have \"branches\" in code?\n",
    "\n",
    "Consider the following code snippet, how does the compiler translate to instructions?"
   ]
  },
  {
   "cell_type": "code",
   "execution_count": null,
   "id": "8a8112bd-8bda-4296-afc8-aff177f8a456",
   "metadata": {},
   "outputs": [],
   "source": [
    "render_code(\"loop.c\", show=\"loop0\")"
   ]
  },
  {
   "cell_type": "code",
   "execution_count": null,
   "id": "43624482-c917-4760-8155-9e56d5f2be2f",
   "metadata": {},
   "outputs": [],
   "source": [
    "! gcc -S -O0 loop.c\n",
    "render_code(\"loop.s\", show=[\"loop0\",\"LFE23\"])"
   ]
  },
  {
   "cell_type": "code",
   "execution_count": null,
   "id": "1782b24a-d792-4e33-8f73-5a4f645e8849",
   "metadata": {},
   "outputs": [],
   "source": [
    "! gcc -S -O2 loop.c\n",
    "render_code(\"loop.s\", show=[\"loop1\",\"LFE24\"])"
   ]
  },
  {
   "cell_type": "code",
   "execution_count": null,
   "id": "bcd2c5fa-6064-45fa-9a71-7d03c96b8dfd",
   "metadata": {},
   "outputs": [],
   "source": [
    "! gcc -S -O2 loop.c\n",
    "render_code(\"loop.s\", show=[\"loop2\",\"LFE25\"])"
   ]
  },
  {
   "cell_type": "markdown",
   "id": "2d8f70d8-eab2-4a17-84cc-a3cd6385dcaf",
   "metadata": {},
   "source": [
    "## Sorting and branch miss rates\n",
    "\n",
    "Do you remember this?"
   ]
  },
  {
   "cell_type": "code",
   "execution_count": 37,
   "id": "75d68adb-df0f-4254-b662-8189854b5944",
   "metadata": {},
   "outputs": [
    {
     "data": {
      "text/html": [
       "\n",
       "            <style>\n",
       "        .side-by-side {\n",
       "            display: flex;\n",
       "            align-items: stretch;\n",
       "\n",
       "        }\n",
       "        .side-by-side-pane {\n",
       "            margin-right:1em;\n",
       "            border-right-style: solid;\n",
       "            border-right-color: black;\n",
       "            border-right-width: 1px;\n",
       "            flex: 1;\n",
       "        }\n",
       "        </style>\n",
       "        <div class=\"side-by-side\"> <div class='side-by-side-pane'><style>pre { line-height: 125%; }\n",
       "td.linenos .normal { color: inherit; background-color: transparent; padding-left: 5px; padding-right: 5px; }\n",
       "span.linenos { color: inherit; background-color: transparent; padding-left: 5px; padding-right: 5px; }\n",
       "td.linenos .special { color: #000000; background-color: #ffffc0; padding-left: 5px; padding-right: 5px; }\n",
       "span.linenos.special { color: #000000; background-color: #ffffc0; padding-left: 5px; padding-right: 5px; }\n",
       ".output_html .hll { background-color: #ffffcc }\n",
       ".output_html { background: #f8f8f8; }\n",
       ".output_html .c { color: #3D7B7B; font-style: italic } /* Comment */\n",
       ".output_html .err { border: 1px solid #FF0000 } /* Error */\n",
       ".output_html .k { color: #008000; font-weight: bold } /* Keyword */\n",
       ".output_html .o { color: #666666 } /* Operator */\n",
       ".output_html .ch { color: #3D7B7B; font-style: italic } /* Comment.Hashbang */\n",
       ".output_html .cm { color: #3D7B7B; font-style: italic } /* Comment.Multiline */\n",
       ".output_html .cp { color: #9C6500 } /* Comment.Preproc */\n",
       ".output_html .cpf { color: #3D7B7B; font-style: italic } /* Comment.PreprocFile */\n",
       ".output_html .c1 { color: #3D7B7B; font-style: italic } /* Comment.Single */\n",
       ".output_html .cs { color: #3D7B7B; font-style: italic } /* Comment.Special */\n",
       ".output_html .gd { color: #A00000 } /* Generic.Deleted */\n",
       ".output_html .ge { font-style: italic } /* Generic.Emph */\n",
       ".output_html .gr { color: #E40000 } /* Generic.Error */\n",
       ".output_html .gh { color: #000080; font-weight: bold } /* Generic.Heading */\n",
       ".output_html .gi { color: #008400 } /* Generic.Inserted */\n",
       ".output_html .go { color: #717171 } /* Generic.Output */\n",
       ".output_html .gp { color: #000080; font-weight: bold } /* Generic.Prompt */\n",
       ".output_html .gs { font-weight: bold } /* Generic.Strong */\n",
       ".output_html .gu { color: #800080; font-weight: bold } /* Generic.Subheading */\n",
       ".output_html .gt { color: #0044DD } /* Generic.Traceback */\n",
       ".output_html .kc { color: #008000; font-weight: bold } /* Keyword.Constant */\n",
       ".output_html .kd { color: #008000; font-weight: bold } /* Keyword.Declaration */\n",
       ".output_html .kn { color: #008000; font-weight: bold } /* Keyword.Namespace */\n",
       ".output_html .kp { color: #008000 } /* Keyword.Pseudo */\n",
       ".output_html .kr { color: #008000; font-weight: bold } /* Keyword.Reserved */\n",
       ".output_html .kt { color: #B00040 } /* Keyword.Type */\n",
       ".output_html .m { color: #666666 } /* Literal.Number */\n",
       ".output_html .s { color: #BA2121 } /* Literal.String */\n",
       ".output_html .na { color: #687822 } /* Name.Attribute */\n",
       ".output_html .nb { color: #008000 } /* Name.Builtin */\n",
       ".output_html .nc { color: #0000FF; font-weight: bold } /* Name.Class */\n",
       ".output_html .no { color: #880000 } /* Name.Constant */\n",
       ".output_html .nd { color: #AA22FF } /* Name.Decorator */\n",
       ".output_html .ni { color: #717171; font-weight: bold } /* Name.Entity */\n",
       ".output_html .ne { color: #CB3F38; font-weight: bold } /* Name.Exception */\n",
       ".output_html .nf { color: #0000FF } /* Name.Function */\n",
       ".output_html .nl { color: #767600 } /* Name.Label */\n",
       ".output_html .nn { color: #0000FF; font-weight: bold } /* Name.Namespace */\n",
       ".output_html .nt { color: #008000; font-weight: bold } /* Name.Tag */\n",
       ".output_html .nv { color: #19177C } /* Name.Variable */\n",
       ".output_html .ow { color: #AA22FF; font-weight: bold } /* Operator.Word */\n",
       ".output_html .w { color: #bbbbbb } /* Text.Whitespace */\n",
       ".output_html .mb { color: #666666 } /* Literal.Number.Bin */\n",
       ".output_html .mf { color: #666666 } /* Literal.Number.Float */\n",
       ".output_html .mh { color: #666666 } /* Literal.Number.Hex */\n",
       ".output_html .mi { color: #666666 } /* Literal.Number.Integer */\n",
       ".output_html .mo { color: #666666 } /* Literal.Number.Oct */\n",
       ".output_html .sa { color: #BA2121 } /* Literal.String.Affix */\n",
       ".output_html .sb { color: #BA2121 } /* Literal.String.Backtick */\n",
       ".output_html .sc { color: #BA2121 } /* Literal.String.Char */\n",
       ".output_html .dl { color: #BA2121 } /* Literal.String.Delimiter */\n",
       ".output_html .sd { color: #BA2121; font-style: italic } /* Literal.String.Doc */\n",
       ".output_html .s2 { color: #BA2121 } /* Literal.String.Double */\n",
       ".output_html .se { color: #AA5D1F; font-weight: bold } /* Literal.String.Escape */\n",
       ".output_html .sh { color: #BA2121 } /* Literal.String.Heredoc */\n",
       ".output_html .si { color: #A45A77; font-weight: bold } /* Literal.String.Interpol */\n",
       ".output_html .sx { color: #008000 } /* Literal.String.Other */\n",
       ".output_html .sr { color: #A45A77 } /* Literal.String.Regex */\n",
       ".output_html .s1 { color: #BA2121 } /* Literal.String.Single */\n",
       ".output_html .ss { color: #19177C } /* Literal.String.Symbol */\n",
       ".output_html .bp { color: #008000 } /* Name.Builtin.Pseudo */\n",
       ".output_html .fm { color: #0000FF } /* Name.Function.Magic */\n",
       ".output_html .vc { color: #19177C } /* Name.Variable.Class */\n",
       ".output_html .vg { color: #19177C } /* Name.Variable.Global */\n",
       ".output_html .vi { color: #19177C } /* Name.Variable.Instance */\n",
       ".output_html .vm { color: #19177C } /* Name.Variable.Magic */\n",
       ".output_html .il { color: #666666 } /* Literal.Number.Integer.Long */</style><div class=\"highlight\"><pre><span></span><span class=\"c1\">// arraySort.cpp:36-43 (8 lines)</span>\n",
       "<span class=\"w\">    </span><span class=\"c1\">//START</span>\n",
       "<span class=\"w\">    </span><span class=\"k\">if</span><span class=\"p\">(</span><span class=\"n\">option</span><span class=\"p\">)</span><span class=\"w\"></span>\n",
       "<span class=\"w\">        </span><span class=\"n\">std</span><span class=\"o\">::</span><span class=\"n\">sort</span><span class=\"p\">(</span><span class=\"n\">data</span><span class=\"p\">,</span><span class=\"w\"> </span><span class=\"n\">data</span><span class=\"w\"> </span><span class=\"o\">+</span><span class=\"w\"> </span><span class=\"n\">arraySize</span><span class=\"p\">);</span><span class=\"w\"></span>\n",
       "\n",
       "<span class=\"w\">    </span><span class=\"k\">for</span><span class=\"w\"> </span><span class=\"p\">(</span><span class=\"kt\">unsigned</span><span class=\"w\"> </span><span class=\"n\">i</span><span class=\"w\"> </span><span class=\"o\">=</span><span class=\"w\"> </span><span class=\"mi\">0</span><span class=\"p\">;</span><span class=\"w\"> </span><span class=\"n\">i</span><span class=\"w\"> </span><span class=\"o\">&lt;</span><span class=\"w\"> </span><span class=\"n\">iterations</span><span class=\"p\">;</span><span class=\"w\"> </span><span class=\"o\">++</span><span class=\"n\">i</span><span class=\"p\">)</span><span class=\"w\"> </span><span class=\"p\">{</span><span class=\"w\"></span>\n",
       "<span class=\"w\">        </span><span class=\"n\">sum</span><span class=\"w\"> </span><span class=\"o\">+=</span><span class=\"w\"> </span><span class=\"n\">calculate_sum</span><span class=\"p\">(</span><span class=\"n\">data</span><span class=\"p\">,</span><span class=\"w\"> </span><span class=\"n\">arraySize</span><span class=\"p\">,</span><span class=\"w\"> </span><span class=\"n\">std</span><span class=\"o\">::</span><span class=\"n\">rand</span><span class=\"p\">());</span><span class=\"w\"></span>\n",
       "<span class=\"w\">    </span><span class=\"p\">}</span><span class=\"w\"></span>\n",
       "<span class=\"w\">    </span><span class=\"c1\">//END</span>\n",
       "</pre></div>\n",
       "</div><div class='side-by-side-pane'><style>pre { line-height: 125%; }\n",
       "td.linenos .normal { color: inherit; background-color: transparent; padding-left: 5px; padding-right: 5px; }\n",
       "span.linenos { color: inherit; background-color: transparent; padding-left: 5px; padding-right: 5px; }\n",
       "td.linenos .special { color: #000000; background-color: #ffffc0; padding-left: 5px; padding-right: 5px; }\n",
       "span.linenos.special { color: #000000; background-color: #ffffc0; padding-left: 5px; padding-right: 5px; }\n",
       ".output_html .hll { background-color: #ffffcc }\n",
       ".output_html { background: #f8f8f8; }\n",
       ".output_html .c { color: #3D7B7B; font-style: italic } /* Comment */\n",
       ".output_html .err { border: 1px solid #FF0000 } /* Error */\n",
       ".output_html .k { color: #008000; font-weight: bold } /* Keyword */\n",
       ".output_html .o { color: #666666 } /* Operator */\n",
       ".output_html .ch { color: #3D7B7B; font-style: italic } /* Comment.Hashbang */\n",
       ".output_html .cm { color: #3D7B7B; font-style: italic } /* Comment.Multiline */\n",
       ".output_html .cp { color: #9C6500 } /* Comment.Preproc */\n",
       ".output_html .cpf { color: #3D7B7B; font-style: italic } /* Comment.PreprocFile */\n",
       ".output_html .c1 { color: #3D7B7B; font-style: italic } /* Comment.Single */\n",
       ".output_html .cs { color: #3D7B7B; font-style: italic } /* Comment.Special */\n",
       ".output_html .gd { color: #A00000 } /* Generic.Deleted */\n",
       ".output_html .ge { font-style: italic } /* Generic.Emph */\n",
       ".output_html .gr { color: #E40000 } /* Generic.Error */\n",
       ".output_html .gh { color: #000080; font-weight: bold } /* Generic.Heading */\n",
       ".output_html .gi { color: #008400 } /* Generic.Inserted */\n",
       ".output_html .go { color: #717171 } /* Generic.Output */\n",
       ".output_html .gp { color: #000080; font-weight: bold } /* Generic.Prompt */\n",
       ".output_html .gs { font-weight: bold } /* Generic.Strong */\n",
       ".output_html .gu { color: #800080; font-weight: bold } /* Generic.Subheading */\n",
       ".output_html .gt { color: #0044DD } /* Generic.Traceback */\n",
       ".output_html .kc { color: #008000; font-weight: bold } /* Keyword.Constant */\n",
       ".output_html .kd { color: #008000; font-weight: bold } /* Keyword.Declaration */\n",
       ".output_html .kn { color: #008000; font-weight: bold } /* Keyword.Namespace */\n",
       ".output_html .kp { color: #008000 } /* Keyword.Pseudo */\n",
       ".output_html .kr { color: #008000; font-weight: bold } /* Keyword.Reserved */\n",
       ".output_html .kt { color: #B00040 } /* Keyword.Type */\n",
       ".output_html .m { color: #666666 } /* Literal.Number */\n",
       ".output_html .s { color: #BA2121 } /* Literal.String */\n",
       ".output_html .na { color: #687822 } /* Name.Attribute */\n",
       ".output_html .nb { color: #008000 } /* Name.Builtin */\n",
       ".output_html .nc { color: #0000FF; font-weight: bold } /* Name.Class */\n",
       ".output_html .no { color: #880000 } /* Name.Constant */\n",
       ".output_html .nd { color: #AA22FF } /* Name.Decorator */\n",
       ".output_html .ni { color: #717171; font-weight: bold } /* Name.Entity */\n",
       ".output_html .ne { color: #CB3F38; font-weight: bold } /* Name.Exception */\n",
       ".output_html .nf { color: #0000FF } /* Name.Function */\n",
       ".output_html .nl { color: #767600 } /* Name.Label */\n",
       ".output_html .nn { color: #0000FF; font-weight: bold } /* Name.Namespace */\n",
       ".output_html .nt { color: #008000; font-weight: bold } /* Name.Tag */\n",
       ".output_html .nv { color: #19177C } /* Name.Variable */\n",
       ".output_html .ow { color: #AA22FF; font-weight: bold } /* Operator.Word */\n",
       ".output_html .w { color: #bbbbbb } /* Text.Whitespace */\n",
       ".output_html .mb { color: #666666 } /* Literal.Number.Bin */\n",
       ".output_html .mf { color: #666666 } /* Literal.Number.Float */\n",
       ".output_html .mh { color: #666666 } /* Literal.Number.Hex */\n",
       ".output_html .mi { color: #666666 } /* Literal.Number.Integer */\n",
       ".output_html .mo { color: #666666 } /* Literal.Number.Oct */\n",
       ".output_html .sa { color: #BA2121 } /* Literal.String.Affix */\n",
       ".output_html .sb { color: #BA2121 } /* Literal.String.Backtick */\n",
       ".output_html .sc { color: #BA2121 } /* Literal.String.Char */\n",
       ".output_html .dl { color: #BA2121 } /* Literal.String.Delimiter */\n",
       ".output_html .sd { color: #BA2121; font-style: italic } /* Literal.String.Doc */\n",
       ".output_html .s2 { color: #BA2121 } /* Literal.String.Double */\n",
       ".output_html .se { color: #AA5D1F; font-weight: bold } /* Literal.String.Escape */\n",
       ".output_html .sh { color: #BA2121 } /* Literal.String.Heredoc */\n",
       ".output_html .si { color: #A45A77; font-weight: bold } /* Literal.String.Interpol */\n",
       ".output_html .sx { color: #008000 } /* Literal.String.Other */\n",
       ".output_html .sr { color: #A45A77 } /* Literal.String.Regex */\n",
       ".output_html .s1 { color: #BA2121 } /* Literal.String.Single */\n",
       ".output_html .ss { color: #19177C } /* Literal.String.Symbol */\n",
       ".output_html .bp { color: #008000 } /* Name.Builtin.Pseudo */\n",
       ".output_html .fm { color: #0000FF } /* Name.Function.Magic */\n",
       ".output_html .vc { color: #19177C } /* Name.Variable.Class */\n",
       ".output_html .vg { color: #19177C } /* Name.Variable.Global */\n",
       ".output_html .vi { color: #19177C } /* Name.Variable.Instance */\n",
       ".output_html .vm { color: #19177C } /* Name.Variable.Magic */\n",
       ".output_html .il { color: #666666 } /* Literal.Number.Integer.Long */</style><div class=\"highlight\"><pre><span></span><span class=\"c1\">// calculate_sum.c:4-12 (9 lines)</span>\n",
       "<span class=\"kt\">long</span><span class=\"w\"> </span><span class=\"kt\">long</span><span class=\"w\"> </span><span class=\"nf\">calculate_sum</span><span class=\"p\">(</span><span class=\"kt\">int</span><span class=\"w\"> </span><span class=\"o\">*</span><span class=\"n\">data</span><span class=\"p\">,</span><span class=\"w\"> </span><span class=\"kt\">unsigned</span><span class=\"w\"> </span><span class=\"kt\">int</span><span class=\"w\"> </span><span class=\"n\">size</span><span class=\"p\">,</span><span class=\"w\"> </span><span class=\"kt\">int</span><span class=\"w\"> </span><span class=\"n\">threshold</span><span class=\"p\">)</span><span class=\"w\"></span>\n",
       "<span class=\"p\">{</span><span class=\"w\"></span>\n",
       "<span class=\"w\">    </span><span class=\"kt\">long</span><span class=\"w\"> </span><span class=\"kt\">long</span><span class=\"w\"> </span><span class=\"n\">sum</span><span class=\"o\">=</span><span class=\"mi\">0</span><span class=\"p\">;</span><span class=\"w\"></span>\n",
       "<span class=\"w\">    </span><span class=\"k\">for</span><span class=\"w\"> </span><span class=\"p\">(</span><span class=\"kt\">unsigned</span><span class=\"w\"> </span><span class=\"n\">i</span><span class=\"w\"> </span><span class=\"o\">=</span><span class=\"w\"> </span><span class=\"mi\">0</span><span class=\"p\">;</span><span class=\"w\"> </span><span class=\"n\">i</span><span class=\"w\"> </span><span class=\"o\">&lt;</span><span class=\"w\"> </span><span class=\"n\">size</span><span class=\"p\">;</span><span class=\"w\"> </span><span class=\"o\">++</span><span class=\"n\">i</span><span class=\"p\">)</span><span class=\"w\"> </span><span class=\"p\">{</span><span class=\"w\"></span>\n",
       "<span class=\"w\">        </span><span class=\"k\">if</span><span class=\"w\"> </span><span class=\"p\">(</span><span class=\"n\">data</span><span class=\"p\">[</span><span class=\"n\">i</span><span class=\"p\">]</span><span class=\"w\"> </span><span class=\"o\">&gt;=</span><span class=\"w\"> </span><span class=\"n\">threshold</span><span class=\"p\">)</span><span class=\"w\"></span>\n",
       "<span class=\"w\">                </span><span class=\"n\">sum</span><span class=\"w\"> </span><span class=\"o\">++</span><span class=\"p\">;</span><span class=\"w\"></span>\n",
       "<span class=\"w\">    </span><span class=\"p\">}</span><span class=\"w\"></span>\n",
       "<span class=\"w\">    </span><span class=\"k\">return</span><span class=\"w\"> </span><span class=\"n\">sum</span><span class=\"p\">;</span><span class=\"w\"></span>\n",
       "<span class=\"p\">}</span><span class=\"w\"></span>\n",
       "</pre></div>\n",
       "</div>\n",
       "        </div>\n",
       "    "
      ],
      "text/plain": [
       "<IPython.core.display.HTML object>"
      ]
     },
     "execution_count": 37,
     "metadata": {},
     "output_type": "execute_result"
    }
   ],
   "source": [
    "compare([do_render_code(\"arraySort.cpp\",show=[\"//START\",\"//END\"]),do_render_code(\"calculate_sum.c\", show=\"calculate_sum\")])"
   ]
  },
  {
   "cell_type": "code",
   "execution_count": 38,
   "id": "29ed7d7b-abdd-48b3-94fc-2d8d2e0fb11c",
   "metadata": {},
   "outputs": [
    {
     "name": "stdout",
     "output_type": "stream",
     "text": [
      "rm -f madd arraySort bitonic quicksort arraySortO3\n",
      "gcc calculate_sum.c -c \n",
      "g++ -O0 -DHAVE_LINUX_PERF_EVENT_H arraySort.cpp perfstats.o calculate_sum.o -o arraySort\n",
      "\u001b[01m\u001b[KarraySort.cpp:\u001b[m\u001b[K In function ‘\u001b[01m\u001b[Kint main(int, char**)\u001b[m\u001b[K’:\n",
      "\u001b[01m\u001b[KarraySort.cpp:46:22:\u001b[m\u001b[K \u001b[01;35m\u001b[Kwarning: \u001b[m\u001b[Kzero-length gnu_printf format string [\u001b[01;35m\u001b[K-Wformat-zero-length\u001b[m\u001b[K]\n",
      "   46 |     sprintf(preamble,\u001b[01;35m\u001b[K\"\"\u001b[m\u001b[K);\n",
      "      |                      \u001b[01;35m\u001b[K^~\u001b[m\u001b[K\n",
      "srun -N1 -p cs203m ./arraySort 131072 1000 0\n",
      "sum = 64494148\n",
      "srun -N1 -p cs203m ./arraySort 131072 1000 1\n",
      "sum = 64494148\n"
     ]
    }
   ],
   "source": [
    "! make clean; make\n",
    "! echo \"size,iterations,sorted,IC,Cycles,CPI,CT,ET,L1_dcache_miss_rate,L1_dcache_misses,L1_dcache_accesses,branches,branch_misses\" > stats.csv\n",
    "! echo -n \"131072,1000,0,\" >> stats.csv\n",
    "! cs203 job memory \"./arraySort 131072 1000 0\"\n",
    "! echo -n \"131072,1000,1,\" >> stats.csv\n",
    "! cs203 job memory \"./arraySort 131072 1000 1\""
   ]
  },
  {
   "cell_type": "code",
   "execution_count": 39,
   "id": "15910cc1-11b0-4c3e-a11d-f9670c61e16b",
   "metadata": {},
   "outputs": [
    {
     "data": {
      "text/html": [
       "<style type=\"text/css\">\n",
       "#T_68ee4_row0_col0, #T_68ee4_row0_col1, #T_68ee4_row0_col2, #T_68ee4_row0_col3, #T_68ee4_row0_col4, #T_68ee4_row0_col5, #T_68ee4_row0_col6, #T_68ee4_row0_col7, #T_68ee4_row0_col8, #T_68ee4_row0_col9, #T_68ee4_row0_col10, #T_68ee4_row0_col11, #T_68ee4_row0_col12, #T_68ee4_row1_col0, #T_68ee4_row1_col1, #T_68ee4_row1_col2, #T_68ee4_row1_col3, #T_68ee4_row1_col4, #T_68ee4_row1_col5, #T_68ee4_row1_col6, #T_68ee4_row1_col7, #T_68ee4_row1_col8, #T_68ee4_row1_col9, #T_68ee4_row1_col10, #T_68ee4_row1_col11, #T_68ee4_row1_col12 {\n",
       "  background-color: grey;\n",
       "  font-family: SF Mono;\n",
       "  font-size: 1.4vw;\n",
       "}\n",
       "</style>\n",
       "<table id=\"T_68ee4\">\n",
       "  <thead>\n",
       "    <tr>\n",
       "      <th class=\"blank level0\" >&nbsp;</th>\n",
       "      <th id=\"T_68ee4_level0_col0\" class=\"col_heading level0 col0\" >size</th>\n",
       "      <th id=\"T_68ee4_level0_col1\" class=\"col_heading level0 col1\" >iterations</th>\n",
       "      <th id=\"T_68ee4_level0_col2\" class=\"col_heading level0 col2\" >sorted</th>\n",
       "      <th id=\"T_68ee4_level0_col3\" class=\"col_heading level0 col3\" >IC</th>\n",
       "      <th id=\"T_68ee4_level0_col4\" class=\"col_heading level0 col4\" >Cycles</th>\n",
       "      <th id=\"T_68ee4_level0_col5\" class=\"col_heading level0 col5\" >CPI</th>\n",
       "      <th id=\"T_68ee4_level0_col6\" class=\"col_heading level0 col6\" >CT</th>\n",
       "      <th id=\"T_68ee4_level0_col7\" class=\"col_heading level0 col7\" >ET</th>\n",
       "      <th id=\"T_68ee4_level0_col8\" class=\"col_heading level0 col8\" >L1_dcache_miss_rate</th>\n",
       "      <th id=\"T_68ee4_level0_col9\" class=\"col_heading level0 col9\" >L1_dcache_misses</th>\n",
       "      <th id=\"T_68ee4_level0_col10\" class=\"col_heading level0 col10\" >L1_dcache_accesses</th>\n",
       "      <th id=\"T_68ee4_level0_col11\" class=\"col_heading level0 col11\" >branches</th>\n",
       "      <th id=\"T_68ee4_level0_col12\" class=\"col_heading level0 col12\" >branch_misses</th>\n",
       "    </tr>\n",
       "  </thead>\n",
       "  <tbody>\n",
       "    <tr>\n",
       "      <th id=\"T_68ee4_level0_row0\" class=\"row_heading level0 row0\" >0</th>\n",
       "      <td id=\"T_68ee4_row0_col0\" class=\"data row0 col0\" >131072</td>\n",
       "      <td id=\"T_68ee4_row0_col1\" class=\"data row0 col1\" >1000</td>\n",
       "      <td id=\"T_68ee4_row0_col2\" class=\"data row0 col2\" >0</td>\n",
       "      <td id=\"T_68ee4_row0_col3\" class=\"data row0 col3\" >1506911236</td>\n",
       "      <td id=\"T_68ee4_row0_col4\" class=\"data row0 col4\" >2129827682</td>\n",
       "      <td id=\"T_68ee4_row0_col5\" class=\"data row0 col5\" >1.413373</td>\n",
       "      <td id=\"T_68ee4_row0_col6\" class=\"data row0 col6\" >0.220195</td>\n",
       "      <td id=\"T_68ee4_row0_col7\" class=\"data row0 col7\" >0.468978</td>\n",
       "      <td id=\"T_68ee4_row0_col8\" class=\"data row0 col8\" >0.006985</td>\n",
       "      <td id=\"T_68ee4_row0_col9\" class=\"data row0 col9\" >8227404</td>\n",
       "      <td id=\"T_68ee4_row0_col10\" class=\"data row0 col10\" >1177868618</td>\n",
       "      <td id=\"T_68ee4_row0_col11\" class=\"data row0 col11\" >262260784</td>\n",
       "      <td id=\"T_68ee4_row0_col12\" class=\"data row0 col12\" >35971719</td>\n",
       "    </tr>\n",
       "    <tr>\n",
       "      <th id=\"T_68ee4_level0_row1\" class=\"row_heading level0 row1\" >1</th>\n",
       "      <td id=\"T_68ee4_row1_col0\" class=\"data row1 col0\" >131072</td>\n",
       "      <td id=\"T_68ee4_row1_col1\" class=\"data row1 col1\" >1000</td>\n",
       "      <td id=\"T_68ee4_row1_col2\" class=\"data row1 col2\" >1</td>\n",
       "      <td id=\"T_68ee4_row1_col3\" class=\"data row1 col3\" >1615391510</td>\n",
       "      <td id=\"T_68ee4_row1_col4\" class=\"data row1 col4\" >978583361</td>\n",
       "      <td id=\"T_68ee4_row1_col5\" class=\"data row1 col5\" >0.605787</td>\n",
       "      <td id=\"T_68ee4_row1_col6\" class=\"data row1 col6\" >0.262309</td>\n",
       "      <td id=\"T_68ee4_row1_col7\" class=\"data row1 col7\" >0.256691</td>\n",
       "      <td id=\"T_68ee4_row1_col8\" class=\"data row1 col8\" >0.006628</td>\n",
       "      <td id=\"T_68ee4_row1_col9\" class=\"data row1 col9\" >8272997</td>\n",
       "      <td id=\"T_68ee4_row1_col10\" class=\"data row1 col10\" >1248234192</td>\n",
       "      <td id=\"T_68ee4_row1_col11\" class=\"data row1 col11\" >279668925</td>\n",
       "      <td id=\"T_68ee4_row1_col12\" class=\"data row1 col12\" >939287</td>\n",
       "    </tr>\n",
       "  </tbody>\n",
       "</table>\n"
      ],
      "text/plain": [
       "<pandas.io.formats.style.Styler at 0x7f582d4ff7c0>"
      ]
     },
     "metadata": {},
     "output_type": "display_data"
    }
   ],
   "source": [
    "display_df_mono(render_csv(\"stats.csv\"))"
   ]
  },
  {
   "cell_type": "markdown",
   "id": "bc73398e-9616-4349-a133-cea6c1db75d2",
   "metadata": {},
   "source": [
    "What did we learn?\n",
    "\n",
    "The CPI is ??? smaller with data sorted (including sorting itself)\n",
    "\n",
    "The ET is ??? faster with data sorted (including sorting itself)\n",
    "\n",
    "What's the cost of branch misses?\n",
    "\n",
    "Let's exclude the sorting part and do it again."
   ]
  },
  {
   "cell_type": "code",
   "execution_count": 40,
   "id": "98ded029-ff36-4d4d-bfd2-e52b6db2991c",
   "metadata": {},
   "outputs": [
    {
     "name": "stdout",
     "output_type": "stream",
     "text": [
      "rm -f madd arraySort bitonic quicksort arraySortO3\n",
      "make: Warning: File 'arraySort.cpp' has modification time 1.8 s in the future\n",
      "gcc calculate_sum.c -c \n",
      "g++ -O0 -DHAVE_LINUX_PERF_EVENT_H arraySort.cpp perfstats.o calculate_sum.o -o arraySort\n",
      "\u001b[01m\u001b[KarraySort.cpp:\u001b[m\u001b[K In function ‘\u001b[01m\u001b[Kint main(int, char**)\u001b[m\u001b[K’:\n",
      "\u001b[01m\u001b[KarraySort.cpp:46:22:\u001b[m\u001b[K \u001b[01;35m\u001b[Kwarning: \u001b[m\u001b[Kzero-length gnu_printf format string [\u001b[01;35m\u001b[K-Wformat-zero-length\u001b[m\u001b[K]\n",
      "   46 |     sprintf(preamble,\u001b[01;35m\u001b[K\"\"\u001b[m\u001b[K);\n",
      "      |                      \u001b[01;35m\u001b[K^~\u001b[m\u001b[K\n",
      "make: warning:  Clock skew detected.  Your build may be incomplete.\n",
      "srun -N1 -p cs203m ./arraySort 131072 1000 0\n",
      "sum = 64494148\n",
      "srun -N1 -p cs203m ./arraySort 131072 1000 1\n",
      "sum = 64494148\n"
     ]
    },
    {
     "data": {
      "text/html": [
       "<style type=\"text/css\">\n",
       "#T_2adc9_row0_col0, #T_2adc9_row0_col1, #T_2adc9_row0_col2, #T_2adc9_row0_col3, #T_2adc9_row0_col4, #T_2adc9_row0_col5, #T_2adc9_row0_col6, #T_2adc9_row0_col7, #T_2adc9_row0_col8, #T_2adc9_row0_col9, #T_2adc9_row0_col10, #T_2adc9_row0_col11, #T_2adc9_row0_col12, #T_2adc9_row1_col0, #T_2adc9_row1_col1, #T_2adc9_row1_col2, #T_2adc9_row1_col3, #T_2adc9_row1_col4, #T_2adc9_row1_col5, #T_2adc9_row1_col6, #T_2adc9_row1_col7, #T_2adc9_row1_col8, #T_2adc9_row1_col9, #T_2adc9_row1_col10, #T_2adc9_row1_col11, #T_2adc9_row1_col12 {\n",
       "  background-color: grey;\n",
       "  font-family: SF Mono;\n",
       "  font-size: 1.4vw;\n",
       "}\n",
       "</style>\n",
       "<table id=\"T_2adc9\">\n",
       "  <thead>\n",
       "    <tr>\n",
       "      <th class=\"blank level0\" >&nbsp;</th>\n",
       "      <th id=\"T_2adc9_level0_col0\" class=\"col_heading level0 col0\" >size</th>\n",
       "      <th id=\"T_2adc9_level0_col1\" class=\"col_heading level0 col1\" >iterations</th>\n",
       "      <th id=\"T_2adc9_level0_col2\" class=\"col_heading level0 col2\" >sorted</th>\n",
       "      <th id=\"T_2adc9_level0_col3\" class=\"col_heading level0 col3\" >IC</th>\n",
       "      <th id=\"T_2adc9_level0_col4\" class=\"col_heading level0 col4\" >Cycles</th>\n",
       "      <th id=\"T_2adc9_level0_col5\" class=\"col_heading level0 col5\" >CPI</th>\n",
       "      <th id=\"T_2adc9_level0_col6\" class=\"col_heading level0 col6\" >CT</th>\n",
       "      <th id=\"T_2adc9_level0_col7\" class=\"col_heading level0 col7\" >ET</th>\n",
       "      <th id=\"T_2adc9_level0_col8\" class=\"col_heading level0 col8\" >L1_dcache_miss_rate</th>\n",
       "      <th id=\"T_2adc9_level0_col9\" class=\"col_heading level0 col9\" >L1_dcache_misses</th>\n",
       "      <th id=\"T_2adc9_level0_col10\" class=\"col_heading level0 col10\" >L1_dcache_accesses</th>\n",
       "      <th id=\"T_2adc9_level0_col11\" class=\"col_heading level0 col11\" >branches</th>\n",
       "      <th id=\"T_2adc9_level0_col12\" class=\"col_heading level0 col12\" >branch_misses</th>\n",
       "    </tr>\n",
       "  </thead>\n",
       "  <tbody>\n",
       "    <tr>\n",
       "      <th id=\"T_2adc9_level0_row0\" class=\"row_heading level0 row0\" >0</th>\n",
       "      <td id=\"T_2adc9_row0_col0\" class=\"data row0 col0\" >131072</td>\n",
       "      <td id=\"T_2adc9_row0_col1\" class=\"data row0 col1\" >1000</td>\n",
       "      <td id=\"T_2adc9_row0_col2\" class=\"data row0 col2\" >0</td>\n",
       "      <td id=\"T_2adc9_row0_col3\" class=\"data row0 col3\" >1507073591</td>\n",
       "      <td id=\"T_2adc9_row0_col4\" class=\"data row0 col4\" >2123228174</td>\n",
       "      <td id=\"T_2adc9_row0_col5\" class=\"data row0 col5\" >1.408842</td>\n",
       "      <td id=\"T_2adc9_row0_col6\" class=\"data row0 col6\" >0.266705</td>\n",
       "      <td id=\"T_2adc9_row0_col7\" class=\"data row0 col7\" >0.566276</td>\n",
       "      <td id=\"T_2adc9_row0_col8\" class=\"data row0 col8\" >0.006992</td>\n",
       "      <td id=\"T_2adc9_row0_col9\" class=\"data row0 col9\" >8235604</td>\n",
       "      <td id=\"T_2adc9_row0_col10\" class=\"data row0 col10\" >1177943504</td>\n",
       "      <td id=\"T_2adc9_row0_col11\" class=\"data row0 col11\" >262289522</td>\n",
       "      <td id=\"T_2adc9_row0_col12\" class=\"data row0 col12\" >35759070</td>\n",
       "    </tr>\n",
       "    <tr>\n",
       "      <th id=\"T_2adc9_level0_row1\" class=\"row_heading level0 row1\" >1</th>\n",
       "      <td id=\"T_2adc9_row1_col0\" class=\"data row1 col0\" >131072</td>\n",
       "      <td id=\"T_2adc9_row1_col1\" class=\"data row1 col1\" >1000</td>\n",
       "      <td id=\"T_2adc9_row1_col2\" class=\"data row1 col2\" >1</td>\n",
       "      <td id=\"T_2adc9_row1_col3\" class=\"data row1 col3\" >1506636703</td>\n",
       "      <td id=\"T_2adc9_row1_col4\" class=\"data row1 col4\" >894804938</td>\n",
       "      <td id=\"T_2adc9_row1_col5\" class=\"data row1 col5\" >0.593909</td>\n",
       "      <td id=\"T_2adc9_row1_col6\" class=\"data row1 col6\" >0.221225</td>\n",
       "      <td id=\"T_2adc9_row1_col7\" class=\"data row1 col7\" >0.197953</td>\n",
       "      <td id=\"T_2adc9_row1_col8\" class=\"data row1 col8\" >0.006974</td>\n",
       "      <td id=\"T_2adc9_row1_col9\" class=\"data row1 col9\" >8213506</td>\n",
       "      <td id=\"T_2adc9_row1_col10\" class=\"data row1 col10\" >1177735512</td>\n",
       "      <td id=\"T_2adc9_row1_col11\" class=\"data row1 col11\" >262212892</td>\n",
       "      <td id=\"T_2adc9_row1_col12\" class=\"data row1 col12\" >12869</td>\n",
       "    </tr>\n",
       "  </tbody>\n",
       "</table>\n"
      ],
      "text/plain": [
       "<pandas.io.formats.style.Styler at 0x7f582d46b940>"
      ]
     },
     "metadata": {},
     "output_type": "display_data"
    }
   ],
   "source": [
    "! make clean; make\n",
    "! echo \"size,iterations,sorted,IC,Cycles,CPI,CT,ET,L1_dcache_miss_rate,L1_dcache_misses,L1_dcache_accesses,branches,branch_misses\" > stats.csv\n",
    "! echo -n \"131072,1000,0,\" >> stats.csv\n",
    "! cs203 job memory \"./arraySort 131072 1000 0\"\n",
    "! echo -n \"131072,1000,1,\" >> stats.csv\n",
    "! cs203 job memory \"./arraySort 131072 1000 1\"\n",
    "display_df_mono(render_csv(\"stats.csv\"))"
   ]
  },
  {
   "cell_type": "code",
   "execution_count": null,
   "id": "3edc61a2-87b1-4b33-907c-45f6ed504453",
   "metadata": {},
   "outputs": [],
   "source": [
    "Diff_Misses = 35759070-5660\n",
    "Diff_Cycles = 2135192468-898505334\n",
    "print(Diff_Cycles/Diff_Misses)"
   ]
  },
  {
   "cell_type": "code",
   "execution_count": null,
   "id": "475c6c12-dbf4-4139-94e6-cc8e61909d42",
   "metadata": {},
   "outputs": [],
   "source": []
  }
 ],
 "metadata": {
  "kernelspec": {
   "display_name": "Python 3 (ipykernel)",
   "language": "python",
   "name": "python3"
  },
  "language_info": {
   "codemirror_mode": {
    "name": "ipython",
    "version": 3
   },
   "file_extension": ".py",
   "mimetype": "text/x-python",
   "name": "python",
   "nbconvert_exporter": "python",
   "pygments_lexer": "ipython3",
   "version": "3.8.10"
  },
  "widgets": {
   "application/vnd.jupyter.widget-state+json": {
    "state": {},
    "version_major": 2,
    "version_minor": 0
   }
  }
 },
 "nbformat": 4,
 "nbformat_minor": 5
}
