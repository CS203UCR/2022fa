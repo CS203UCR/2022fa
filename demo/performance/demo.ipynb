{
 "cells": [
  {
   "cell_type": "code",
   "execution_count": null,
   "id": "efe67395-1de2-4dbe-a212-508f06a3af13",
   "metadata": {},
   "outputs": [],
   "source": [
    "# Please execute/shift-return this cell everytime you run the notebook.  Don't edit it. \n",
    "%load_ext autoreload\n",
    "%autoreload 2\n",
    "from notebook import * "
   ]
  },
  {
   "cell_type": "markdown",
   "id": "c997f135-d359-4c23-a82c-935bfc501075",
   "metadata": {
    "tags": []
   },
   "source": [
    "# Performance\n",
    "\n",
    "## How programmers affects performance?"
   ]
  },
  {
   "cell_type": "code",
   "execution_count": null,
   "id": "400de324-0875-49d5-b68e-f6b2114cd591",
   "metadata": {},
   "outputs": [],
   "source": [
    "compare([do_render_code(\"./programmer/madd_A.c\", lang=\"c++\", show=\"main\"),\n",
    "do_render_code(\"./programmer/madd_B.c\", lang=\"c++\", show=\"main\")])"
   ]
  },
  {
   "cell_type": "code",
   "execution_count": null,
   "id": "324683b1-9d23-4adc-8715-e6ceacb6e32c",
   "metadata": {},
   "outputs": [],
   "source": [
    "! cd programmer; make clean; make\n",
    "! echo \"running version A\"; perf stat ./programmer/madd_A\n",
    "! echo \"running version B\"; perf stat ./programmer/madd_B"
   ]
  },
  {
   "cell_type": "markdown",
   "id": "3fb43434-f2a1-43d6-9214-2f148477666f",
   "metadata": {
    "jp-MarkdownHeadingCollapsed": true,
    "tags": []
   },
   "source": [
    "<div class=\"alert alert-block alert-info\">\n",
    "    \n",
    "### Question:\n",
    "\n",
    "What does the programmer affect?\n",
    "    \n",
    "</div>"
   ]
  },
  {
   "cell_type": "code",
   "execution_count": null,
   "id": "f31a0834-a08e-454e-be38-45426edcf1e2",
   "metadata": {},
   "outputs": [],
   "source": [
    "compare([do_render_code(\"../introduction/arraySort.cpp\",lang=\"c++\", show=\"main\"),do_render_code(\"../introduction/arraySort.cpp\",lang=\"c++\", show=\"calculate_sum\")])"
   ]
  },
  {
   "cell_type": "code",
   "execution_count": null,
   "id": "f962b0aa-0efd-4da7-9832-19ed917620c7",
   "metadata": {},
   "outputs": [],
   "source": [
    "! cd ../introduction/; make clean; make; echo \"not sorting\"; perf stat ./arraySort 262144 1000 0; echo \"sorting\"; perf stat  ./arraySort 262144 1000 1"
   ]
  },
  {
   "cell_type": "markdown",
   "id": "97ecf570-3b40-44d8-ad77-c5099779863a",
   "metadata": {
    "jp-MarkdownHeadingCollapsed": true,
    "tags": []
   },
   "source": [
    "<div class=\"alert alert-block alert-info\">\n",
    "    \n",
    "### Question:\n",
    "\n",
    "What does the programmer affect?\n",
    "    \n",
    "</div>"
   ]
  },
  {
   "cell_type": "code",
   "execution_count": null,
   "id": "1ec0d477-b44c-4875-9ce1-636912bb2308",
   "metadata": {},
   "outputs": [],
   "source": [
    "render_code(\"./programmer/perfstats.c\", lang=\"c++\", show=\"change_cpufrequnecy\")"
   ]
  },
  {
   "cell_type": "code",
   "execution_count": null,
   "id": "15a0b812-4213-4839-bfcd-0719c3fa5ef0",
   "metadata": {},
   "outputs": [],
   "source": [
    "!cs203 job run 'cpupower frequency-info -n'"
   ]
  },
  {
   "cell_type": "code",
   "execution_count": null,
   "id": "f11174ed-7869-4a3e-bf0e-fa19b576eb85",
   "metadata": {},
   "outputs": [],
   "source": [
    "! cs203 job run \"cat /proc/cpuinfo|grep MHz\""
   ]
  },
  {
   "cell_type": "code",
   "execution_count": null,
   "id": "70ed1330-f42c-4c31-999c-df9709c1af5c",
   "metadata": {},
   "outputs": [],
   "source": [
    "! cs203 job run \"perf stat ./programmer/madd_change_freq 8192 1550\"\n",
    "! cs203 job run \"perf stat ./programmer/madd_change_freq 8192 3200\""
   ]
  },
  {
   "cell_type": "markdown",
   "id": "eb798955-c31c-4261-ad4b-0fdfc09c6552",
   "metadata": {},
   "source": [
    "## How programming languages affects performance?\n",
    "\n",
    "### Python\n",
    "    "
   ]
  },
  {
   "cell_type": "code",
   "execution_count": null,
   "id": "01bcec1a-a964-4f90-bdae-d224aaebf83e",
   "metadata": {},
   "outputs": [],
   "source": [
    "render_code(\"./programming_languages/hello.py\")"
   ]
  },
  {
   "cell_type": "code",
   "execution_count": null,
   "id": "49f73d1f-2c22-4146-9d59-1078152e8e74",
   "metadata": {},
   "outputs": [],
   "source": [
    "!perf stat python ./programming_languages/hello.py"
   ]
  },
  {
   "cell_type": "markdown",
   "id": "f591d25b-03a8-433f-b0fe-4c52da356f93",
   "metadata": {},
   "source": [
    "### Perl"
   ]
  },
  {
   "cell_type": "code",
   "execution_count": null,
   "id": "25bfbae3-177f-426e-b2b7-008434515a79",
   "metadata": {},
   "outputs": [],
   "source": [
    "render_code(\"./programming_languages/hello.pl\")"
   ]
  },
  {
   "cell_type": "code",
   "execution_count": null,
   "id": "665a54a0-8366-43cb-b2de-989b0c6a913d",
   "metadata": {},
   "outputs": [],
   "source": [
    "! perf stat ./programming_languages/hello.pl"
   ]
  },
  {
   "cell_type": "markdown",
   "id": "9c5266ce-dd44-416a-b650-816830fe86d2",
   "metadata": {},
   "source": [
    "### Java"
   ]
  },
  {
   "cell_type": "code",
   "execution_count": null,
   "id": "c2cc191b-ab84-4f46-9ae4-9d986b113a04",
   "metadata": {},
   "outputs": [],
   "source": [
    "render_code(\"./programming_languages/HelloWorld.java\")"
   ]
  },
  {
   "cell_type": "code",
   "execution_count": null,
   "id": "ceb67b36-1c3f-48a8-9f12-65290943755b",
   "metadata": {},
   "outputs": [],
   "source": [
    "! cd ./programming_languages/; javac HelloWorld.java\n",
    "! cd ./programming_languages/; perf stat java HelloWorld"
   ]
  },
  {
   "cell_type": "markdown",
   "id": "fe4f93dc-3a36-469b-960d-32e0f2c399af",
   "metadata": {},
   "source": [
    "### Go"
   ]
  },
  {
   "cell_type": "code",
   "execution_count": null,
   "id": "f4ad7449-bab8-44b3-b4ea-9fb56b621485",
   "metadata": {},
   "outputs": [],
   "source": [
    "render_code(\"./programming_languages/hello-world.go\")"
   ]
  },
  {
   "cell_type": "code",
   "execution_count": null,
   "id": "6db3687b-34ec-4487-91bc-fb4dfa357e85",
   "metadata": {},
   "outputs": [],
   "source": [
    "! perf stat /usr/local/go/bin/go run ./programming_languages/hello-world.go"
   ]
  },
  {
   "cell_type": "code",
   "execution_count": null,
   "id": "579e5a44-733b-46a5-947e-e1c04b47063c",
   "metadata": {},
   "outputs": [],
   "source": [
    "!/usr/local/go/bin/go build ./programming_languages/hello-world.go\n",
    "! perf stat ./hello-world"
   ]
  },
  {
   "cell_type": "markdown",
   "id": "aa81685a-38c6-4c7d-a533-ba370277ae32",
   "metadata": {},
   "source": [
    "### C++"
   ]
  },
  {
   "cell_type": "code",
   "execution_count": null,
   "id": "bef0c235-79c0-43f6-89f9-095fb69576dd",
   "metadata": {},
   "outputs": [],
   "source": [
    "render_code(\"./programming_languages/hello.cpp\")"
   ]
  },
  {
   "cell_type": "code",
   "execution_count": null,
   "id": "20c78803-ba08-497a-9d35-c4526c4c159e",
   "metadata": {},
   "outputs": [],
   "source": [
    "! g++ -O4 ./programming_languages/hello.cpp -o ./programming_languages/hello_cpp\n",
    "! perf stat ./programming_languages/hello_cpp"
   ]
  },
  {
   "cell_type": "markdown",
   "id": "676af4de-9aae-4d21-bb1d-32d3731dd103",
   "metadata": {},
   "source": [
    "### C"
   ]
  },
  {
   "cell_type": "code",
   "execution_count": null,
   "id": "622f450f-3638-4685-9aac-80230e333de8",
   "metadata": {},
   "outputs": [],
   "source": [
    "render_code(\"./programming_languages/hello.c\")"
   ]
  },
  {
   "cell_type": "code",
   "execution_count": null,
   "id": "975e0d00-01d6-4b49-827c-6c5c3b26b4e7",
   "metadata": {},
   "outputs": [],
   "source": [
    "! gcc -O4 ./programming_languages/hello.c -o ./programming_languages/hello_c\n",
    "! perf stat ./programming_languages/hello_c"
   ]
  },
  {
   "cell_type": "markdown",
   "id": "06bc71f1-7505-439b-bb98-6648d886231e",
   "metadata": {},
   "source": [
    "## Compiler"
   ]
  },
  {
   "cell_type": "code",
   "execution_count": null,
   "id": "cfb2a524-e1e0-4f6f-9001-89e0522e26d3",
   "metadata": {},
   "outputs": [],
   "source": [
    "! cd programmer; make clean; make madd_A\n",
    "! echo \"running version A (Unoptimized)\"; time ./programmer/madd_A"
   ]
  },
  {
   "cell_type": "code",
   "execution_count": null,
   "id": "4cff57a6-13db-4a6b-a2fd-26fe47246648",
   "metadata": {},
   "outputs": [],
   "source": [
    "! cd programmer; make madd_A_O3\n",
    "! echo \"running version A (Optimized)\"; time ./programmer/madd_A_O3"
   ]
  },
  {
   "cell_type": "code",
   "execution_count": null,
   "id": "af40c763-2df9-46e9-9a9a-7787c038dedc",
   "metadata": {},
   "outputs": [],
   "source": [
    "! cd programmer; make madd_B_O3\n",
    "! echo \"running version B (Optimized)\"; time ./programmer/madd_B_O3"
   ]
  },
  {
   "cell_type": "markdown",
   "id": "832b15a6-d96d-4143-be19-be530bb51a73",
   "metadata": {
    "jp-MarkdownHeadingCollapsed": true,
    "tags": []
   },
   "source": [
    "<div class=\"alert alert-block alert-info\">\n",
    "    \n",
    "### Question:\n",
    "\n",
    "What's the limitation of compiler?\n",
    "    \n",
    "</div>"
   ]
  }
 ],
 "metadata": {
  "kernelspec": {
   "display_name": "Python 3 (ipykernel)",
   "language": "python",
   "name": "python3"
  },
  "language_info": {
   "codemirror_mode": {
    "name": "ipython",
    "version": 3
   },
   "file_extension": ".py",
   "mimetype": "text/x-python",
   "name": "python",
   "nbconvert_exporter": "python",
   "pygments_lexer": "ipython3",
   "version": "3.8.10"
  }
 },
 "nbformat": 4,
 "nbformat_minor": 5
}
