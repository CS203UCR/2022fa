{
 "cells": [
  {
   "cell_type": "code",
   "execution_count": null,
   "id": "efe67395-1de2-4dbe-a212-508f06a3af13",
   "metadata": {},
   "outputs": [],
   "source": [
    "# Please execute/shift-return this cell everytime you run the notebook.  Don't edit it. \n",
    "%load_ext autoreload\n",
    "%autoreload 2\n",
    "from notebook import * "
   ]
  },
  {
   "cell_type": "markdown",
   "id": "c997f135-d359-4c23-a82c-935bfc501075",
   "metadata": {},
   "source": [
    "# Performance\n",
    "\n",
    "## How programmers affects performance?"
   ]
  },
  {
   "cell_type": "code",
   "execution_count": null,
   "id": "400de324-0875-49d5-b68e-f6b2114cd591",
   "metadata": {},
   "outputs": [],
   "source": [
    "render_code(\"./programmer/madd.c\")"
   ]
  },
  {
   "cell_type": "code",
   "execution_count": null,
   "id": "324683b1-9d23-4adc-8715-e6ceacb6e32c",
   "metadata": {},
   "outputs": [],
   "source": [
    "! cd programmer; make\n",
    "! time ./programmer/madd_A_O3\n",
    "! time ./programmer/madd_B_O3"
   ]
  },
  {
   "cell_type": "markdown",
   "id": "eb798955-c31c-4261-ad4b-0fdfc09c6552",
   "metadata": {},
   "source": [
    "## How programming languages affects performance?\n",
    "\n",
    "### Python"
   ]
  },
  {
   "cell_type": "code",
   "execution_count": null,
   "id": "01bcec1a-a964-4f90-bdae-d224aaebf83e",
   "metadata": {},
   "outputs": [],
   "source": [
    "render_code(\"./programming_languages/hello.py\")"
   ]
  },
  {
   "cell_type": "code",
   "execution_count": null,
   "id": "49f73d1f-2c22-4146-9d59-1078152e8e74",
   "metadata": {},
   "outputs": [],
   "source": [
    "!perf stat python ./programming_languages/hello.py"
   ]
  },
  {
   "cell_type": "markdown",
   "id": "f591d25b-03a8-433f-b0fe-4c52da356f93",
   "metadata": {},
   "source": [
    "### Perl"
   ]
  },
  {
   "cell_type": "code",
   "execution_count": null,
   "id": "25bfbae3-177f-426e-b2b7-008434515a79",
   "metadata": {},
   "outputs": [],
   "source": [
    "render_code(\"./programming_languages/hello.pl\")"
   ]
  },
  {
   "cell_type": "code",
   "execution_count": null,
   "id": "665a54a0-8366-43cb-b2de-989b0c6a913d",
   "metadata": {},
   "outputs": [],
   "source": [
    "! perf stat ./programming_languages/hello.pl"
   ]
  },
  {
   "cell_type": "markdown",
   "id": "9c5266ce-dd44-416a-b650-816830fe86d2",
   "metadata": {},
   "source": [
    "### Java"
   ]
  },
  {
   "cell_type": "code",
   "execution_count": null,
   "id": "c2cc191b-ab84-4f46-9ae4-9d986b113a04",
   "metadata": {},
   "outputs": [],
   "source": [
    "render_code(\"./programming_languages/HelloWorld.java\")"
   ]
  },
  {
   "cell_type": "code",
   "execution_count": null,
   "id": "ceb67b36-1c3f-48a8-9f12-65290943755b",
   "metadata": {},
   "outputs": [],
   "source": [
    "! cd ./programming_languages/; javac HelloWorld.java\n",
    "! cd ./programming_languages/; perf stat java HelloWorld"
   ]
  },
  {
   "cell_type": "markdown",
   "id": "fe4f93dc-3a36-469b-960d-32e0f2c399af",
   "metadata": {},
   "source": [
    "### Go"
   ]
  },
  {
   "cell_type": "code",
   "execution_count": null,
   "id": "f4ad7449-bab8-44b3-b4ea-9fb56b621485",
   "metadata": {},
   "outputs": [],
   "source": [
    "render_code(\"./programming_languages/hello-world.go\")"
   ]
  },
  {
   "cell_type": "code",
   "execution_count": null,
   "id": "6db3687b-34ec-4487-91bc-fb4dfa357e85",
   "metadata": {},
   "outputs": [],
   "source": [
    "! perf stat /usr/local/go/bin/go run ./programming_languages/hello-world.go"
   ]
  },
  {
   "cell_type": "code",
   "execution_count": null,
   "id": "579e5a44-733b-46a5-947e-e1c04b47063c",
   "metadata": {},
   "outputs": [],
   "source": [
    "!/usr/local/go/bin/go build ./programming_languages/hello-world.go\n",
    "! perf stat ./programming_languages/hello-world"
   ]
  },
  {
   "cell_type": "markdown",
   "id": "aa81685a-38c6-4c7d-a533-ba370277ae32",
   "metadata": {},
   "source": [
    "### C++"
   ]
  },
  {
   "cell_type": "code",
   "execution_count": null,
   "id": "bef0c235-79c0-43f6-89f9-095fb69576dd",
   "metadata": {},
   "outputs": [],
   "source": [
    "render_code(\"./programming_languages/hello.cpp\")"
   ]
  },
  {
   "cell_type": "code",
   "execution_count": null,
   "id": "20c78803-ba08-497a-9d35-c4526c4c159e",
   "metadata": {},
   "outputs": [],
   "source": [
    "! g++ -O4 ./programming_languages/hello.cpp -o ./programming_languages/hello_cpp\n",
    "! perf stat ./programming_languages/hello_cpp"
   ]
  },
  {
   "cell_type": "markdown",
   "id": "676af4de-9aae-4d21-bb1d-32d3731dd103",
   "metadata": {},
   "source": [
    "### C"
   ]
  },
  {
   "cell_type": "code",
   "execution_count": null,
   "id": "622f450f-3638-4685-9aac-80230e333de8",
   "metadata": {},
   "outputs": [],
   "source": [
    "render_code(\"./programming_languages/hello.c\")"
   ]
  },
  {
   "cell_type": "code",
   "execution_count": null,
   "id": "975e0d00-01d6-4b49-827c-6c5c3b26b4e7",
   "metadata": {},
   "outputs": [],
   "source": [
    "! gcc -O4 ./programming_languages/hello.c -o ./programming_languages/hello_c\n",
    "! perf stat ./programming_languages/hello_c"
   ]
  },
  {
   "cell_type": "code",
   "execution_count": null,
   "id": "8348cbf3-e02a-4cd1-b223-fe7c3b224cab",
   "metadata": {},
   "outputs": [],
   "source": []
  }
 ],
 "metadata": {
  "kernelspec": {
   "display_name": "Python 3 (ipykernel)",
   "language": "python",
   "name": "python3"
  },
  "language_info": {
   "codemirror_mode": {
    "name": "ipython",
    "version": 3
   },
   "file_extension": ".py",
   "mimetype": "text/x-python",
   "name": "python",
   "nbconvert_exporter": "python",
   "pygments_lexer": "ipython3",
   "version": "3.8.10"
  }
 },
 "nbformat": 4,
 "nbformat_minor": 5
}
