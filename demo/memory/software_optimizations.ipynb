{
 "cells": [
  {
   "cell_type": "code",
   "execution_count": null,
   "id": "3325cd24-6aa7-4cb6-a424-dc361d893ad8",
   "metadata": {},
   "outputs": [],
   "source": [
    "# Please execute/shift-return this cell everytime you run the notebook.  Don't edit it. \n",
    "%load_ext autoreload\n",
    "%autoreload 2\n",
    "from notebook import * "
   ]
  },
  {
   "cell_type": "markdown",
   "id": "994e4532-9dba-4150-8e52-424f2edc8171",
   "metadata": {},
   "source": [
    "# Software Optimizations -- how to write cache friendly code?"
   ]
  },
  {
   "cell_type": "markdown",
   "id": "ff947a8f-1faa-45b3-94ea-6b500bc10d5d",
   "metadata": {},
   "source": [
    "## Revisiting the design of your data structures.\n",
    "\n",
    "### How much space does the following data structures need in physical memory?"
   ]
  },
  {
   "cell_type": "code",
   "execution_count": null,
   "id": "088c8e9c-e333-48d5-a845-e9001e8a4986",
   "metadata": {},
   "outputs": [],
   "source": [
    "compare([do_render_code(\"./structure/memory_usage.c\", show=[\"//START_1\",\"//END_1\"]),do_render_code(\"structure/memory_usage.c\", show=\"main\")])"
   ]
  },
  {
   "cell_type": "code",
   "execution_count": null,
   "id": "ea5111d0-597d-4c2d-bf7b-c27959d2ec1a",
   "metadata": {},
   "outputs": [],
   "source": [
    "! cd structure; make clean; make memory_usage_A; ./memory_usage_A"
   ]
  },
  {
   "cell_type": "markdown",
   "id": "29a7e0fc-6af8-4cd8-82d3-f136e293d2fc",
   "metadata": {},
   "source": [
    "Now, let's rearrange the data structure a little bit and see what's going on!"
   ]
  },
  {
   "cell_type": "code",
   "execution_count": null,
   "id": "2f7ff099-16f1-4029-9ad6-6ac419c4afa1",
   "metadata": {},
   "outputs": [],
   "source": [
    "compare([do_render_code(\"./structure/memory_usage.c\", show=[\"//START_1\",\"//END_1\"]),do_render_code(\"structure/memory_usage.c\", show=[\"START_2\",\"END_2\"])])\n",
    "! cd structure; make memory_usage_B; ./memory_usage_B"
   ]
  },
  {
   "cell_type": "markdown",
   "id": "8016c915-7859-4deb-b28b-34ccb7e0ba3c",
   "metadata": {},
   "source": [
    "### What's a better data structure?"
   ]
  },
  {
   "cell_type": "code",
   "execution_count": null,
   "id": "572e99c6-ff94-4105-85f8-36a59607af3a",
   "metadata": {},
   "outputs": [],
   "source": [
    "compare([do_render_code(\"./structure/array_of_objects.c\", show=[\"//START\",\"//END\"]),do_render_code(\"structure/object_of_arrays.c\", show=[\"//START\",\"//END\"])])"
   ]
  },
  {
   "cell_type": "markdown",
   "id": "633aa399-0395-4a96-87e7-22f78fa7fd28",
   "metadata": {},
   "source": [
    "If the main workload is typically similar to \n",
    "```SELECT AVG(assignment_1) FROM table ```"
   ]
  },
  {
   "cell_type": "code",
   "execution_count": null,
   "id": "59ec5919-d1d7-4b77-8cf5-ff9130a71ae7",
   "metadata": {},
   "outputs": [],
   "source": [
    "compare([do_render_code(\"./structure/array_of_objects.c\", show=[\"//START_SELECT\",\"//END_SELECT\"]),do_render_code(\"structure/object_of_arrays.c\", show=[\"//START_SELECT\",\"//END_SELECT\"])])"
   ]
  },
  {
   "cell_type": "markdown",
   "id": "a61f5e96-4e58-4a0d-b1d5-cf5cbee50e96",
   "metadata": {},
   "source": [
    "Which one is better?"
   ]
  },
  {
   "cell_type": "code",
   "execution_count": null,
   "id": "618b4f4b-3ffa-47a0-bdb4-5fcb0a6b8c7b",
   "metadata": {},
   "outputs": [],
   "source": [
    "! cd structure; make array_of_objects; make object_of_arrays"
   ]
  },
  {
   "cell_type": "code",
   "execution_count": null,
   "id": "d08de696-4737-4fea-bfd5-a4943e9f15fd",
   "metadata": {},
   "outputs": [],
   "source": [
    "! cd structure; echo \"array of objects\"; time ./array_of_objects 28800 10000 0; echo \"object of arrays\"; time ./object_of_arrays 28800 10000 0"
   ]
  },
  {
   "cell_type": "markdown",
   "id": "684fb01c-1aa2-47e7-8213-85524d0b1a11",
   "metadata": {},
   "source": [
    "## Loop fusion/fission/interchance"
   ]
  },
  {
   "cell_type": "markdown",
   "id": "99c64c46-a69d-4b8f-8ea5-d43dfc91aecc",
   "metadata": {},
   "source": [
    "In a very early lecture, we've learned the order of traversing loop matters a lot! It's actually the very first optimization in making your code cache friendly --\n",
    "\n",
    "### Loop Interchange"
   ]
  },
  {
   "cell_type": "code",
   "execution_count": null,
   "id": "bad9acc6-916c-4829-94ab-318541a6e366",
   "metadata": {},
   "outputs": [],
   "source": [
    "compare([do_render_code(\"madd/madd_A.c\",show=[\"//START\",\"//END\"]),do_render_code(\"madd/madd_B.c\",show=[\"//START\",\"//END\"])])"
   ]
  },
  {
   "cell_type": "markdown",
   "id": "c98d2a20-6fbc-484e-84a7-a7b9391a5cbc",
   "metadata": {},
   "source": [
    "Do you remember the code that let Jetson Nano suffer? What if we change it to the right hand side?\n",
    "\n",
    "### Loop Fission"
   ]
  },
  {
   "cell_type": "code",
   "execution_count": null,
   "id": "30fdc003-109f-4b34-9641-da862c20ee81",
   "metadata": {},
   "outputs": [],
   "source": [
    "compare([do_render_code(\"loop/loop.c\",show=[\"#else\",\"#endif\"]),do_render_code(\"loop/loop.c\",show=[\"#ifdef A\",\"#else\"])])"
   ]
  },
  {
   "cell_type": "code",
   "execution_count": null,
   "id": "0e30e9be-8101-4d41-b759-39659943508f",
   "metadata": {},
   "outputs": [],
   "source": [
    "! ssh htseng@nano \"cd courses/CS203/demo/memory/loop; make clean; make; valgrind --tool=cachegrind ./loop_B 524288 >& nano_B.perf;  grep 'D   refs\\|D1' nano_B.perf; valgrind --tool=cachegrind ./loop_A 524288 >& nano_A.perf ; grep 'D   refs\\|D1' nano_A.perf\""
   ]
  },
  {
   "cell_type": "markdown",
   "id": "a56783b5-6086-4ccc-a26b-73b7b430941c",
   "metadata": {},
   "source": [
    "What if we run it on an intel processor?"
   ]
  },
  {
   "cell_type": "code",
   "execution_count": null,
   "id": "239227fc-57be-4457-8737-b3cbc2e9676b",
   "metadata": {},
   "outputs": [],
   "source": [
    "! ssh htseng@azelf \"cd courses/CS203/demo/memory/loop; make clean; make; valgrind --tool=cachegrind ./loop_B 524288 >& intel_B.perf;  grep 'D   refs\\|D1' intel_B.perf; valgrind --tool=cachegrind ./loop_A 524288 >& intel_A.perf ; grep 'D   refs\\|D1' intel_A.perf\""
   ]
  },
  {
   "cell_type": "markdown",
   "id": "0a52e651-d0c0-451f-9566-285ab0766187",
   "metadata": {},
   "source": [
    "## Case study: matrix multiplications\n",
    "\n",
    "GEMM that computes C = A $\\times$ B is the core of many AI/ML applications. The most naive implementation of GEMM takes $O(n^3)$. Assume it takes 1 second to perform GEMM on 1,024$\\times$1,024$\\times$1,024 matrices. How much time do you expect it would take for 2,048$\\times$2,048$\\times$2,048 matrices?"
   ]
  },
  {
   "cell_type": "code",
   "execution_count": null,
   "id": "417ac0a5-08d2-46e5-8588-29271f93f37d",
   "metadata": {},
   "outputs": [],
   "source": [
    "render_code(\"matrix_mul/mm.c\", show=[\"//START\",\"//END\"])"
   ]
  },
  {
   "cell_type": "code",
   "execution_count": null,
   "id": "8a647811-be50-4aed-abaa-36215248b1cd",
   "metadata": {},
   "outputs": [],
   "source": [
    "! cd matrix_mul; make clean; make mm"
   ]
  },
  {
   "cell_type": "code",
   "execution_count": null,
   "id": "9aca6d8e-5970-44cc-b127-52cfa4486611",
   "metadata": {},
   "outputs": [],
   "source": [
    "! cd matrix_mul; echo \"IC,Cycles,CPI,CT_ns,ET_s,DL1_miss_rate,DL1_misses,DL1_accesses\" > mm.csv\n",
    "! ./matrix_mul/mm 32 >> ./matrix_mul/mm.csv ;./matrix_mul/mm 1024 >> ./matrix_mul/mm.csv ; ./matrix_mul/mm 2048 >> ./matrix_mul/mm.csv\n",
    "#! cs203 job memory \"./matrix_mul/mm 1024 >> ./matrix_mul/mm.csv ; ./matrix_mul/mm 2048 >> ./matrix_mul/mm.csv\""
   ]
  },
  {
   "cell_type": "code",
   "execution_count": null,
   "id": "15e2200b-8db0-419b-87d0-9be272606946",
   "metadata": {},
   "outputs": [],
   "source": [
    "display_df_mono(render_csv(\"matrix_mul/mm.csv\"))"
   ]
  },
  {
   "cell_type": "markdown",
   "id": "af69a45b-e386-459b-b9d6-500b34b2c7b9",
   "metadata": {},
   "source": [
    "WOW! Compuational complexty breaks again! The GEMM performance go wild because of cache misses!"
   ]
  },
  {
   "cell_type": "markdown",
   "id": "fcee10d0-3f20-43ba-bfaa-3c8565f9518d",
   "metadata": {},
   "source": [
    "### Matrix tiling algorithm\n",
    "\n",
    "Let's try to partition GEMM into smaller tiles!"
   ]
  },
  {
   "cell_type": "code",
   "execution_count": null,
   "id": "21a51d97-ea84-45ac-a1c0-2c926f47e0ea",
   "metadata": {},
   "outputs": [],
   "source": [
    "render_code(\"matrix_mul/blockmm.c\", show=[\"//START\",\"//END\"])"
   ]
  },
  {
   "cell_type": "code",
   "execution_count": null,
   "id": "fc93b8b0-d1cc-4869-ae44-4105527f31bb",
   "metadata": {},
   "outputs": [],
   "source": [
    "! cd matrix_mul/; make blockmm"
   ]
  },
  {
   "cell_type": "code",
   "execution_count": null,
   "id": "b2058144-b212-4078-9a83-d4791cc841e2",
   "metadata": {},
   "outputs": [],
   "source": [
    "! cd matrix_mul; echo \"IC,Cycles,CPI,CT_ns,ET_s,DL1_miss_rate,DL1_misses,DL1_accesses\" > blockmm.csv\n",
    "! ./matrix_mul/blockmm 32 1 >> ./matrix_mul/blockmm.csv ;./matrix_mul/blockmm 1024 256 >> ./matrix_mul/blockmm.csv ; ./matrix_mul/blockmm 2048 256 >> ./matrix_mul/blockmm.csv"
   ]
  },
  {
   "cell_type": "code",
   "execution_count": null,
   "id": "7a26f767-4ec8-4fbe-8fc3-44886bd99adf",
   "metadata": {},
   "outputs": [],
   "source": [
    "display_df_mono(render_csv(\"matrix_mul/blockmm.csv\"))"
   ]
  },
  {
   "cell_type": "code",
   "execution_count": null,
   "id": "51b7c23c-47a8-42e3-8516-f4532ac3262a",
   "metadata": {},
   "outputs": [],
   "source": [
    "render_code(\"matrix_mul/blockmm_transpose.c\", show=[\"//START\",\"//END\"])"
   ]
  },
  {
   "cell_type": "markdown",
   "id": "5d4faa6b-52de-46eb-b0f4-08dfdadfd417",
   "metadata": {},
   "source": [
    "### Matrix transpose"
   ]
  },
  {
   "cell_type": "code",
   "execution_count": null,
   "id": "5c07d0c2-5ebe-4216-be39-6811e1a750d0",
   "metadata": {},
   "outputs": [],
   "source": [
    "! cd matrix_mul; make blockmm_transpose; echo \"IC,Cycles,CPI,CT_ns,ET_s,DL1_miss_rate,DL1_misses,DL1_accesses\" > blockmm_transpose.csv\n",
    "! ./matrix_mul/blockmm_transpose 32 1 >> ./matrix_mul/blockmm_transpose.csv ;./matrix_mul/blockmm_transpose 1024 256 >> ./matrix_mul/blockmm_transpose.csv ; ./matrix_mul/blockmm_transpose 2048 256 >> ./matrix_mul/blockmm_transpose.csv"
   ]
  },
  {
   "cell_type": "code",
   "execution_count": null,
   "id": "09894d15-4010-4141-baa8-973ee83e21e2",
   "metadata": {},
   "outputs": [],
   "source": [
    "display_df_mono(render_csv(\"matrix_mul/blockmm_transpose.csv\"))"
   ]
  },
  {
   "cell_type": "code",
   "execution_count": null,
   "id": "5ae71517-c2d9-4306-805f-92b76c8d84c1",
   "metadata": {},
   "outputs": [],
   "source": []
  }
 ],
 "metadata": {
  "kernelspec": {
   "display_name": "Python 3 (ipykernel)",
   "language": "python",
   "name": "python3"
  },
  "language_info": {
   "codemirror_mode": {
    "name": "ipython",
    "version": 3
   },
   "file_extension": ".py",
   "mimetype": "text/x-python",
   "name": "python",
   "nbconvert_exporter": "python",
   "pygments_lexer": "ipython3",
   "version": "3.8.10"
  },
  "widgets": {
   "application/vnd.jupyter.widget-state+json": {
    "state": {},
    "version_major": 2,
    "version_minor": 0
   }
  }
 },
 "nbformat": 4,
 "nbformat_minor": 5
}
