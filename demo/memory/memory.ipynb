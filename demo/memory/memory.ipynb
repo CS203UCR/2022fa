{
 "cells": [
  {
   "cell_type": "code",
   "execution_count": 57,
   "id": "39bd05fd-cae3-4bed-9b16-0114306cfc72",
   "metadata": {
    "editable": false,
    "init_cell": true,
    "tags": []
   },
   "outputs": [
    {
     "data": {
      "text/html": [
       "<style>h1 {font-size: 2vw;} h2 {font-size: 1.5vw;} p {font-size: 1.4vw;} div.prompt, code, output, prompt, kbd, pre, samp {font-family: 'SF Mono', 'Courier New', Courier, monospace, sans-serif !important;font-size: 1.4vw !important;}</style>"
      ],
      "text/plain": [
       "<IPython.core.display.HTML object>"
      ]
     },
     "metadata": {},
     "output_type": "display_data"
    },
    {
     "name": "stdout",
     "output_type": "stream",
     "text": [
      "The autoreload extension is already loaded. To reload it, use:\n",
      "  %reload_ext autoreload\n"
     ]
    }
   ],
   "source": [
    "# Please execute/shift-return this cell everytime you run the notebook.  Don't edit it. \n",
    "%load_ext autoreload\n",
    "%autoreload 2\n",
    "from notebook import * "
   ]
  },
  {
   "cell_type": "markdown",
   "id": "cc91b7b4-d577-4799-90e0-8caf96cf580c",
   "metadata": {},
   "source": [
    "# Memory hierarchy\n",
    "\n",
    "## How much time did I spent on \"memory\"\n",
    "\n",
    "Remember our demo long time ago?"
   ]
  },
  {
   "cell_type": "code",
   "execution_count": null,
   "id": "721b5672-7a0b-421d-b592-dfc57f24d787",
   "metadata": {},
   "outputs": [],
   "source": [
    "compare([do_render_code(\"./madd/madd_A.c\", lang=\"c++\", show=[\"//START\", \"//END\"]),do_render_code(\"./madd/madd_B.c\", lang=\"c++\", show=[\"//START\", \"//END\"])])"
   ]
  },
  {
   "cell_type": "code",
   "execution_count": null,
   "id": "9ac4bfe2-49ab-4ac7-972d-5660bc361401",
   "metadata": {},
   "outputs": [],
   "source": [
    "render_code(\"./mv/matvec.c\", lang=\"c++\", show=[\"//START\", \"//END\"])"
   ]
  },
  {
   "cell_type": "code",
   "execution_count": null,
   "id": "4c98ee9b-bc61-424a-947f-f7f165128697",
   "metadata": {},
   "outputs": [],
   "source": [
    "! cd mv; make clean; make; ./matvec 16 1 "
   ]
  },
  {
   "cell_type": "code",
   "execution_count": null,
   "id": "71c37f3e-067e-4cc2-a413-da2112259597",
   "metadata": {},
   "outputs": [],
   "source": [
    "!echo \"element,address\"> addresses.csv; ./mv/matvec 16 1 >> addresses.csv\n",
    "df = render_csv(\"addresses.csv\")\n",
    "df[\"tag\"] = int(df[\"address\"])\n",
    "display_df_mono(df)"
   ]
  },
  {
   "cell_type": "markdown",
   "id": "a5018288-6079-4125-98a1-4f9a2b0b3805",
   "metadata": {},
   "source": [
    "## The memory hierarchy of my computer"
   ]
  },
  {
   "cell_type": "code",
   "execution_count": 51,
   "id": "b3530190-c853-4c69-85de-07e8880ca00a",
   "metadata": {},
   "outputs": [
    {
     "name": "stdout",
     "output_type": "stream",
     "text": [
      "Model name:                      AMD Ryzen 7 5700G with Radeon Graphics\n",
      "LEVEL1_ICACHE_SIZE                 32768\n",
      "LEVEL1_ICACHE_ASSOC                8\n",
      "LEVEL1_ICACHE_LINESIZE             64\n",
      "LEVEL1_DCACHE_SIZE                 32768\n",
      "LEVEL1_DCACHE_ASSOC                8\n",
      "LEVEL1_DCACHE_LINESIZE             64\n",
      "LEVEL2_CACHE_SIZE                  524288\n",
      "LEVEL2_CACHE_ASSOC                 8\n",
      "LEVEL2_CACHE_LINESIZE              64\n",
      "LEVEL3_CACHE_SIZE                  16777216\n",
      "LEVEL3_CACHE_ASSOC                 0\n",
      "LEVEL3_CACHE_LINESIZE              64\n",
      "LEVEL4_CACHE_SIZE                  0\n",
      "LEVEL4_CACHE_ASSOC                 0\n",
      "LEVEL4_CACHE_LINESIZE              0\n"
     ]
    }
   ],
   "source": [
    "! lscpu | grep \"Model name\"\n",
    "! getconf -a | grep CACHE"
   ]
  },
  {
   "cell_type": "code",
   "execution_count": 52,
   "id": "774a19b0-8788-418e-af2d-0ec749091dd6",
   "metadata": {},
   "outputs": [
    {
     "name": "stdout",
     "output_type": "stream",
     "text": [
      "Model name:                      12th Gen Intel(R) Core(TM) i9-12900KF\n",
      "LEVEL1_ICACHE_SIZE                 65536\n",
      "LEVEL1_ICACHE_ASSOC                8\n",
      "LEVEL1_ICACHE_LINESIZE             64\n",
      "LEVEL1_DCACHE_SIZE                 32768\n",
      "LEVEL1_DCACHE_ASSOC                8\n",
      "LEVEL1_DCACHE_LINESIZE             64\n",
      "LEVEL2_CACHE_SIZE                  2097152\n",
      "LEVEL2_CACHE_ASSOC                 16\n",
      "LEVEL2_CACHE_LINESIZE              64\n",
      "LEVEL3_CACHE_SIZE                  31457280\n",
      "LEVEL3_CACHE_ASSOC                 12\n",
      "LEVEL3_CACHE_LINESIZE              64\n",
      "LEVEL4_CACHE_SIZE                  0\n",
      "LEVEL4_CACHE_ASSOC                 0\n",
      "LEVEL4_CACHE_LINESIZE              0\n"
     ]
    }
   ],
   "source": [
    "! ssh htseng@azelf \"lscpu | grep 'Model name'; getconf -a | grep CACHE\""
   ]
  },
  {
   "cell_type": "code",
   "execution_count": null,
   "id": "27ad0dd6-409c-4467-8acd-9cb0f9eceaf2",
   "metadata": {},
   "outputs": [],
   "source": [
    "! ssh htseng@nano \"lscpu | grep 'Model name'; getconf -a | grep CACHE\""
   ]
  },
  {
   "cell_type": "code",
   "execution_count": null,
   "id": "0dc40f30-34f4-4797-a259-7d2e18dfb931",
   "metadata": {},
   "outputs": [],
   "source": [
    "! cd gpusort; make clean; make EXTRA_FLAGS=-pg \n",
    "! ssh htseng@azelf \"cd courses/CS203/demo/amdahlslaw/gpusort; source ./run_CPU\""
   ]
  },
  {
   "cell_type": "code",
   "execution_count": null,
   "id": "0668b2dc-5a3c-4a30-9421-72e6636eb594",
   "metadata": {},
   "outputs": [],
   "source": [
    "! cd gpusort; gprof ./hybridsort_cpu ./gmon.out"
   ]
  },
  {
   "cell_type": "code",
   "execution_count": null,
   "id": "635fdd0f-c640-4018-bac9-332b36078458",
   "metadata": {},
   "outputs": [],
   "source": [
    "render_code(\"./gpusort/main.cu\", lang=\"c++\", show=\"bitonic_sort\")"
   ]
  },
  {
   "cell_type": "code",
   "execution_count": null,
   "id": "c73d3821-69cd-4eea-a462-1e37d06b918c",
   "metadata": {},
   "outputs": [],
   "source": [
    "! ssh htseng@azelf \"nvidia-smi -a\""
   ]
  },
  {
   "cell_type": "code",
   "execution_count": null,
   "id": "58c248df-8600-4198-ab38-9ad4f8c4f66f",
   "metadata": {},
   "outputs": [],
   "source": [
    "! cd gpusort; make clean; make\n",
    "# ! ssh htseng@azelf \"source ./courses/CS203/demo/amdahlslaw/gpusort/run_CPU\"\n",
    "! echo \"File on H.D.D.; Sorting on GPU\"\n",
    "! ssh htseng@azelf \"cd courses/CS203/demo/amdahlslaw/gpusort; source ./run 2>> sort.csv\"\n",
    "! echo \"File on S.S.D.; Sorting on GPU\"\n",
    "! ssh htseng@azelf \"cd courses/CS203/demo/amdahlslaw/gpusort; source ./run_SSD 2>> sort.csv\""
   ]
  },
  {
   "cell_type": "code",
   "execution_count": null,
   "id": "42c3bd85-2cb9-4492-ae36-4bd92db2eed5",
   "metadata": {},
   "outputs": [],
   "source": [
    "display_df_mono(render_csv(\"./gpusort/sort.csv\"))"
   ]
  },
  {
   "cell_type": "code",
   "execution_count": null,
   "id": "603bc4f5-caa2-4adb-9631-848e86ef7d25",
   "metadata": {},
   "outputs": [],
   "source": [
    "! cd vmul; make clean; make\n",
    "! echo \"THREADS,CPUTIME,HOST2GPU,GPUTIME,GPU2HOST\" > ./vmul/vmul.csv\n",
    "! echo \"CPU based vul\"\n",
    "! ssh htseng@azelf \"time ./courses/CS203/demo/amdahlslaw/vmul/vmul 33554432 1 0 30 2>> ./courses/CS203/demo/amdahlslaw/vmul/vmul.csv\"\n",
    "! echo \"GPU based vul\"\n",
    "### i stands for \"How many iterations each thread performs \n",
    "### -- the larger the number, the fewer the parallelism\n",
    "! for i in 1 2 4 8 16 32 64 128 256 512 1024 2048 4096 8192; do ssh htseng@azelf \"time ./courses/CS203/demo/amdahlslaw/vmul/vmul 33554432 $i 1 30 2>> ./courses/CS203/demo/amdahlslaw/vmul/vmul.csv\" ; done"
   ]
  },
  {
   "cell_type": "code",
   "execution_count": null,
   "id": "57027deb-99ae-4aa4-af88-7926abfdab58",
   "metadata": {},
   "outputs": [],
   "source": [
    "df = render_csv(\"./vmul/vmul.csv\")\n",
    "df[\"TOTAL\"] = df[\"CPUTIME\"] + df[\"HOST2GPU\"] + df[\"GPUTIME\"] + df[\"GPU2HOST\"]\n",
    "df = df.sort_values(by=[\"THREADS\"], ascending=True)\n",
    "display_df_mono(df)\n",
    "plotPE(df=df, lines=True, what=[ ('THREADS', \"TOTAL\"), ('THREADS', \"GPUTIME\")], columns=2)"
   ]
  },
  {
   "cell_type": "code",
   "execution_count": null,
   "id": "2e609d7a-4a9a-4b77-83fc-764de897ffd9",
   "metadata": {},
   "outputs": [],
   "source": [
    "from IPython.display import IFrame\n",
    "IFrame(\"https://hub.escalab.org:8000/user/htseng/terminals/1\", width=\"100%\", height=\"400\")"
   ]
  },
  {
   "cell_type": "markdown",
   "id": "abb91ae4-11f4-4acc-a107-c60b84d99149",
   "metadata": {},
   "source": [
    "Now, let's revisit the optimized gpusort on this machine with different array size..."
   ]
  },
  {
   "cell_type": "code",
   "execution_count": null,
   "id": "c4844277-f48e-4fe6-b9e0-6c0c88fa3c57",
   "metadata": {},
   "outputs": [],
   "source": [
    "! echo \"Configuration,Size,ET,FileInput,CPU_Kernel,GPU_Kernel,Host2GPU,GPU2Host\" > sort_small.csv\n",
    "! echo \"File on H.D.D\"\n",
    "! cd gpusort; source ./run_small 512 2>> ../sort_small.csv\n",
    "! echo \"File on S.S.D\"\n",
    "! cd gpusort; source ./run_small_SSD 512 2>> ../sort_small.csv\n",
    "! echo \"File on H.D.D\"\n",
    "! cd gpusort; source ./run_small 32768 2>> ../sort_small.csv\n",
    "! echo \"File on S.S.D\"\n",
    "! cd gpusort; source ./run_small_SSD 32768 2>> ../sort_small.csv\n",
    "! echo \"File on H.D.D\"\n",
    "! cd gpusort; source ./run_small 262144 2>> ../sort_small.csv\n",
    "! echo \"File on S.S.D\"\n",
    "! cd gpusort; source ./run_small_SSD 262144 2>> ../sort_small.csv\n",
    "display_df_mono((render_csv(\"sort_small.csv\")))"
   ]
  },
  {
   "cell_type": "markdown",
   "id": "f7b7b25d-f14d-498a-8f9b-68ebfd312647",
   "metadata": {},
   "source": [
    "What can we observe here?"
   ]
  },
  {
   "cell_type": "markdown",
   "id": "cd2a8292-356a-4f4c-a959-bea406889cd4",
   "metadata": {},
   "source": [
    "## Inference per second\n",
    "\n",
    "Inference per second is frequently used for ML performance, is it a good \"metric\"? Let's try using Google's edge TPU and compare it with CPU performance!"
   ]
  },
  {
   "cell_type": "code",
   "execution_count": null,
   "id": "f50ce950-325a-4ff1-adc1-eb1b9ff0dee9",
   "metadata": {},
   "outputs": [],
   "source": [
    "!ssh htseng@celebi \"python3 /nfshome/htseng/ESCAL/pycoral/benchmarks/inference_benchmarks.py\""
   ]
  },
  {
   "cell_type": "code",
   "execution_count": null,
   "id": "ee82dd8e-97cf-439d-b7e8-fefdca13bd44",
   "metadata": {},
   "outputs": [],
   "source": []
  }
 ],
 "metadata": {
  "kernelspec": {
   "display_name": "Python 3 (ipykernel)",
   "language": "python",
   "name": "python3"
  },
  "language_info": {
   "codemirror_mode": {
    "name": "ipython",
    "version": 3
   },
   "file_extension": ".py",
   "mimetype": "text/x-python",
   "name": "python",
   "nbconvert_exporter": "python",
   "pygments_lexer": "ipython3",
   "version": "3.8.10"
  },
  "toc-autonumbering": true,
  "toc-showcode": false,
  "toc-showmarkdowntxt": false,
  "widgets": {
   "application/vnd.jupyter.widget-state+json": {
    "state": {},
    "version_major": 2,
    "version_minor": 0
   }
  }
 },
 "nbformat": 4,
 "nbformat_minor": 5
}
